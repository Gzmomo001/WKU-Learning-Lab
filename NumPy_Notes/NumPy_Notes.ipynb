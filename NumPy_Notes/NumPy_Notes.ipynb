{
 "cells": [
  {
   "cell_type": "markdown",
   "metadata": {},
   "source": [
    "# My NumPy Notebook\n",
    ">**[Back to index](../README.md)**\n",
    "\n",
    "Numpy is a library for ___scientific computing___ in Python. It provides a ___multidimensional array object___, various derived objects (such as masked arrays and matrices), and an assortment of routines for fast operations on arrays, including mathematical, logical, shape manipulation, sorting, selecting, I/O, discrete Fourier transforms, basic linear algebra, basic statistical operations, random simulation and much more.\n",
    "\n",
    "The array object in NumPy is called ___ndarray___, it provides a lot of supporting functions that make working with ndarray very easy.\n",
    "\n",
    "NumPy arrays are stored at one **continuous place in memory unlike lists**, so processes can access and manipulate them very **efficiently**. This behavior is called **locality of reference** in computer science. This is the main reason why NumPy is faster than Python lists.\n",
    "- - - - - "
   ]
  },
  {
   "cell_type": "markdown",
   "metadata": {},
   "source": [
    "# Differences between NumPy Arrays and Python Lists:\n",
    "\n",
    "## Memory Storage for NumPy Arrays\n",
    "\n",
    "### Contiguous Memory\n",
    "\n",
    "NumPy arrays store their elements in a single, contiguous block of memory.\n",
    "\n",
    "Each element has the same data type, so they all occupy the same number of bytes, which makes indexing and arithmetic operations very efficient.\n",
    "\n",
    "\n",
    "### Metadata Stored\n",
    "\n",
    "Pointer to the data buffer: A reference to the block of memory where the actual array elements are stored.\n",
    "\n",
    "Data type (dtype): Information about the type of elements (e.g., int32, float64) and how many bytes each element requires.\n",
    "\n",
    "Shape: The dimensions of the array (e.g., (3, 3) for a 3x3 matrix).\n",
    "\n",
    "Strides: The number of bytes to step in each dimension when traversing the array.\n",
    "\n",
    "\n",
    "### NumPy Array Example\n",
    "\n",
    "```python\n",
    "import numpy as np\n",
    "arr = np.array([[1, 2, 3], [4, 5, 6]], dtype=np.int32)\n",
    "```\n",
    "\n",
    "**Element size:** Each int32 element takes 4 bytes.\n",
    "**Data block:** Stores the values [1, 2, 3, 4, 5, 6] contiguously in memory.\n",
    "**Metadata:**\n",
    "Pointer to the data block.\n",
    "Data type (numpy.ndarray).\n",
    "Shape (2, 3).\n",
    "Strides (12, 4) (step size to move between rows and columns).\n",
    "\n",
    "## Memory Storage for Python Lists\n",
    "\n",
    "### Pointers to Objects\n",
    "Python lists are heterogeneous, so they do not store the actual data values directly.\n",
    "\n",
    "Instead, they store pointers (references) to objects in memory. Each element of the list can point to data of a different type.\n",
    "\n",
    "### Metadata Stored\n",
    "Pointer to the list object: A reference to the memory location where the list resides.\n",
    "\n",
    "Size: The number of elements in the list.\n",
    "\n",
    "Capacity: The total space allocated for the list (to avoid frequent resizing during dynamic growth).\n",
    "\n",
    "Pointers to elements: Each slot in the list stores a pointer to the actual data.\n",
    "\n",
    "### Python List Example\n",
    "\n",
    "```python\n",
    "py_list = [1, \"two\", 3.0]\n",
    "```\n",
    "\n",
    "#### Metadata:\n",
    "\n",
    "Pointer to the list object\n",
    "\n",
    "Size 3\n",
    "\n",
    "Capacity number of bytes allocated for the list.\n",
    "\n",
    "Element pointers\n",
    "\n",
    "py_list[0]: Points to an int object storing 1.\n",
    "\n",
    "py_list[1]: Points to a str object storing \"two\".\n",
    "\n",
    "py_list[2]: Points to a float object storing 3.0.\n",
    "\n",
    "#### Each element is a full Python object, which includes\n",
    "\n",
    "Type information: Identifies whether the object is an integer, string, float, etc.\n",
    "\n",
    "Reference count: Tracks how many references point to the object for memory management.\n",
    "\n",
    "Data value: The actual data of the object.\n",
    "\n"
   ]
  },
  {
   "cell_type": "markdown",
   "metadata": {},
   "source": [
    "# Import NumPy"
   ]
  },
  {
   "cell_type": "markdown",
   "metadata": {},
   "source": [
    "Normally numpy is imported as np\n",
    "\n",
    "If not installed, install it by:\n",
    "\n",
    "```python\n",
    "pip install numpy\n",
    "```\n",
    "> **Note:**\n",
    "> Run the following code to import NumPy before starting:\n"
   ]
  },
  {
   "cell_type": "code",
   "execution_count": 2,
   "metadata": {},
   "outputs": [],
   "source": [
    "import numpy as np"
   ]
  },
  {
   "cell_type": "markdown",
   "metadata": {},
   "source": [
    "# Basic initializations"
   ]
  },
  {
   "cell_type": "markdown",
   "metadata": {},
   "source": [
    "## Basic initialization of a NumPy array\n",
    "\n",
    "The list must be homogenous, i.e. all elements must be of the same type, and all demensions.\n",
    "\n",
    "When creating a NumPy array without specifying the data type:\n",
    "- **For integer values, NumPy will use `np.int32` or `np.int64` depending on your system**\n",
    "- **For floating point values, NumPy will use `np.float64`**\n",
    "- For boolean values, NumPy will use `np.bool_`\n",
    "- For strings, NumPy will use `np.str_` with length equal to the longest string\n"
   ]
  },
  {
   "cell_type": "code",
   "execution_count": 12,
   "metadata": {},
   "outputs": [
    {
     "name": "stdout",
     "output_type": "stream",
     "text": [
      "[[1 2 3]\n",
      " [4 5 6]]\n",
      "int64\n",
      "[[1. 2. 3.]\n",
      " [4. 5. 6.]]\n",
      "float64\n"
     ]
    }
   ],
   "source": [
    "# np.array(list / tuple) -> ndarray\n",
    "arrayA = np.array([[1, 2, 3], [4, 5, 6]])\n",
    "print(arrayA)\n",
    "print(arrayA.dtype)\n",
    "\n",
    "arrayZ = np.array([[1.0, 2.0, 3.0], [4.0, 5.0, 6.0]])\n",
    "print(arrayZ)\n",
    "print(arrayZ.dtype)"
   ]
  },
  {
   "cell_type": "markdown",
   "metadata": {},
   "source": [
    "## Initialize a NumPy array with specified data type\n",
    "Data type:\n",
    "- np.int8\n",
    "- np.int16\n",
    "- np.int32\n",
    "- np.int64\n",
    "- np.float16\n",
    "- np.float32\n",
    "- np.float64\n",
    "- np.bool_\n",
    "- np.str_\n"
   ]
  },
  {
   "cell_type": "code",
   "execution_count": 7,
   "metadata": {},
   "outputs": [
    {
     "name": "stdout",
     "output_type": "stream",
     "text": [
      "[[1. 2. 3.]\n",
      " [4. 5. 6.]]\n"
     ]
    }
   ],
   "source": [
    "# np.array(list / tuple, dtype=np.data type / dtype='data type') -> ndarray\n",
    "arrayB = np.array([[1, 2, 3], [4, 5, 6]], dtype=np.float32)\n",
    "print(arrayB)"
   ]
  },
  {
   "cell_type": "markdown",
   "metadata": {},
   "source": [
    "# Get functions"
   ]
  },
  {
   "cell_type": "markdown",
   "metadata": {},
   "source": [
    "## Get the dimension of a NumPy array"
   ]
  },
  {
   "cell_type": "code",
   "execution_count": 6,
   "metadata": {},
   "outputs": [
    {
     "data": {
      "text/plain": [
       "2"
      ]
     },
     "execution_count": 6,
     "metadata": {},
     "output_type": "execute_result"
    }
   ],
   "source": [
    "# arrayName.ndim -> int (number of dimensions)\n",
    "arrayA.ndim"
   ]
  },
  {
   "cell_type": "markdown",
   "metadata": {},
   "source": [
    "## Get the shape of a NumPy array"
   ]
  },
  {
   "cell_type": "code",
   "execution_count": 10,
   "metadata": {},
   "outputs": [
    {
     "data": {
      "text/plain": [
       "(2, 3)"
      ]
     },
     "execution_count": 10,
     "metadata": {},
     "output_type": "execute_result"
    }
   ],
   "source": [
    "# arrayName.shape -> tuple (int of rows, int of columns, ...)\n",
    "arrayA.shape"
   ]
  },
  {
   "cell_type": "markdown",
   "metadata": {},
   "source": [
    "## Get the data type of elements in a NumPy array"
   ]
  },
  {
   "cell_type": "code",
   "execution_count": 11,
   "metadata": {},
   "outputs": [
    {
     "data": {
      "text/plain": [
       "dtype('int64')"
      ]
     },
     "execution_count": 11,
     "metadata": {},
     "output_type": "execute_result"
    }
   ],
   "source": [
    "# arrayName.dtype -> dtype('type of data')\n",
    "arrayA.dtype"
   ]
  },
  {
   "cell_type": "markdown",
   "metadata": {},
   "source": [
    "## Get the size of each element of a NumPy array in bytes"
   ]
  },
  {
   "cell_type": "code",
   "execution_count": 9,
   "metadata": {},
   "outputs": [
    {
     "data": {
      "text/plain": [
       "4"
      ]
     },
     "execution_count": 9,
     "metadata": {},
     "output_type": "execute_result"
    }
   ],
   "source": [
    "# arrayName.itemsize -> int (element size in bytes)\n",
    "arrayB.itemsize\n",
    "# (arrayB.dtype = np.float32)"
   ]
  },
  {
   "cell_type": "markdown",
   "metadata": {},
   "source": [
    "## Get the size of a NumPy array (total number of elements)"
   ]
  },
  {
   "cell_type": "code",
   "execution_count": 18,
   "metadata": {},
   "outputs": [
    {
     "data": {
      "text/plain": [
       "6"
      ]
     },
     "execution_count": 18,
     "metadata": {},
     "output_type": "execute_result"
    }
   ],
   "source": [
    "# arrayName.size -> int (total number of elements)\n",
    "arrayA.size"
   ]
  },
  {
   "cell_type": "markdown",
   "metadata": {},
   "source": [
    "## Get the total size of NumPy array elements in bytes (only the elememts)"
   ]
  },
  {
   "cell_type": "code",
   "execution_count": 10,
   "metadata": {},
   "outputs": [
    {
     "data": {
      "text/plain": [
       "48"
      ]
     },
     "execution_count": 10,
     "metadata": {},
     "output_type": "execute_result"
    }
   ],
   "source": [
    "# arrayName.nbytes() -> int (number of bytes taken by the items)\n",
    "# arrayA = [[1, 2, 3],\n",
    "#           [4, 5, 6]] (default data type with integers: int64)\n",
    "arrayA.nbytes"
   ]
  },
  {
   "cell_type": "markdown",
   "metadata": {},
   "source": [
    "## Get a specific element(s) from a NumPy array"
   ]
  },
  {
   "cell_type": "markdown",
   "metadata": {},
   "source": [
    "### Get a element"
   ]
  },
  {
   "cell_type": "code",
   "execution_count": 11,
   "metadata": {},
   "outputs": [
    {
     "data": {
      "text/plain": [
       "5"
      ]
     },
     "execution_count": 11,
     "metadata": {},
     "output_type": "execute_result"
    }
   ],
   "source": [
    "# arrayName[row, column, ...] -> np.dataType(value)\n",
    "arrayA[1, 1]"
   ]
  },
  {
   "cell_type": "markdown",
   "metadata": {},
   "source": [
    "### Get a range of elements"
   ]
  },
  {
   "cell_type": "code",
   "execution_count": 26,
   "metadata": {},
   "outputs": [],
   "source": [
    "arrayC = np.array([[1, 2, 3, 4, 5, 6, 7, 8, 9, 10],\n",
    "                   [11,12,13,14,15,16,17,18,19,20],\n",
    "                   [21,22,23,24,25,26,27,28,29,30],\n",
    "                   [31,32,33,34,35,36,37,38,39,40],\n",
    "                   [41,42,43,44,45,46,47,48,49,50]], dtype=np.int16)"
   ]
  },
  {
   "cell_type": "markdown",
   "metadata": {},
   "source": [
    "arrayName[(row) start: end: step, (coloum) start: end: step, ...] -> np.array\n",
    "step is **optional**, default is 1.\n"
   ]
  },
  {
   "cell_type": "code",
   "execution_count": 20,
   "metadata": {},
   "outputs": [],
   "source": [
    "arrayC[0:3:2, 0:7:3]\n",
    "tmp = arrayC[0:3:2]\n",
    "Tmp = arrayC[0:,0:7:3]"
   ]
  },
  {
   "cell_type": "markdown",
   "metadata": {},
   "source": [
    "# Redefine value(s) in a NumPy array"
   ]
  },
  {
   "cell_type": "markdown",
   "metadata": {},
   "source": [
    "## Redefine 1 single value to 1 single value\n",
    ">arrayName[row, column, ...] = value"
   ]
  },
  {
   "cell_type": "code",
   "execution_count": 6,
   "metadata": {},
   "outputs": [
    {
     "name": "stdout",
     "output_type": "stream",
     "text": [
      "[[21  2  3  4  5  6  7  8  9 10]\n",
      " [11 12 13 14 15 16 17 18 19 20]\n",
      " [21 22 23 24 25 26 27 28 29 30]\n",
      " [31 32 33 34 35 36 37 38 39 40]\n",
      " [41 42 43 44 45 46 47 48 49 50]]\n"
     ]
    }
   ],
   "source": [
    "arrayC[0, 0] = 21\n",
    "print(arrayC)"
   ]
  },
  {
   "cell_type": "markdown",
   "metadata": {},
   "source": [
    "## Redefine a range of values to 1 single value"
   ]
  },
  {
   "cell_type": "code",
   "execution_count": 7,
   "metadata": {},
   "outputs": [
    {
     "name": "stdout",
     "output_type": "stream",
     "text": [
      "[[21  2  3  4  5  6  7  8  9 10]\n",
      " [21 12 21 14 21 16 21 18 19 20]\n",
      " [21 22 23 24 25 26 27 28 29 30]\n",
      " [31 32 33 34 35 36 37 38 39 40]\n",
      " [41 42 43 44 45 46 47 48 49 50]]\n"
     ]
    }
   ],
   "source": [
    "# arrayName[(row) start: end: step, (coloum) start: end: step, ...] = value\n",
    "arrayC[1, 0:7:2] = 21\n",
    "print(arrayC)"
   ]
  },
  {
   "cell_type": "markdown",
   "metadata": {},
   "source": [
    "## Redefine a range of values to a list/NumPy array\n",
    "### Redefine the arrayC starting from the 2th row and 1th column to a list\n",
    ">Tips:\n",
    ">1. The list/NumPy array must have the same **shape** as the range to be redefined.\n",
    ">2. The list/NumPy array must have the same **data type** as the range to be redefined.\n"
   ]
  },
  {
   "cell_type": "code",
   "execution_count": 35,
   "metadata": {},
   "outputs": [],
   "source": [
    "# arrayName[(row) start: end: step, (coloum) start: end: step, ...] = list / ndarray / tuple\n",
    "arrayC[1:3, 0:6] = np.array([[44, 55, 66, 77, 88, 99], [99, 88, 77, 66, 55, 44]])\n",
    "#print(arrayC)"
   ]
  },
  {
   "cell_type": "markdown",
   "metadata": {},
   "source": [
    "### redefine the arrayC starting from the 3th row and 7th column to a list"
   ]
  },
  {
   "cell_type": "code",
   "execution_count": 27,
   "metadata": {},
   "outputs": [],
   "source": [
    "arrayC[3:, 6:] = np.array([21, 42, 63, 84])\n",
    "#print(arrayC)"
   ]
  },
  {
   "cell_type": "markdown",
   "metadata": {},
   "source": [
    "# Special initialization of NumPy arrays"
   ]
  },
  {
   "cell_type": "markdown",
   "metadata": {},
   "source": [
    "## All zeros/ones array (default data type: np.float64)"
   ]
  },
  {
   "cell_type": "code",
   "execution_count": 22,
   "metadata": {},
   "outputs": [
    {
     "name": "stdout",
     "output_type": "stream",
     "text": [
      "[[0. 0. 0.]\n",
      " [0. 0. 0.]]\n",
      "(2, 3)\n",
      "float64\n",
      "\n",
      "[[[1 1 1]\n",
      "  [1 1 1]\n",
      "  [1 1 1]]\n",
      "\n",
      " [[1 1 1]\n",
      "  [1 1 1]\n",
      "  [1 1 1]]]\n",
      "(2, 3, 3)\n",
      "int32\n"
     ]
    }
   ],
   "source": [
    "# np.zeros(tuple for size / list for size / ndarray for size) -> ndarray\n",
    "arr = np.zeros((2,3))\n",
    "print(arr)\n",
    "print(arr.shape)\n",
    "print(arr.dtype)\n",
    "print()\n",
    "arr = np.ones(np.array([2,3,3]), dtype=np.int32)\n",
    "print(arr)\n",
    "print(arr.shape)\n",
    "print(arr.dtype)"
   ]
  },
  {
   "cell_type": "markdown",
   "metadata": {},
   "source": [
    "## All any same numbers"
   ]
  },
  {
   "cell_type": "code",
   "execution_count": 26,
   "metadata": {},
   "outputs": [
    {
     "name": "stdout",
     "output_type": "stream",
     "text": [
      "[[7 7]\n",
      " [7 7]]\n",
      "[[2.1 2.1 2.1]\n",
      " [2.1 2.1 2.1]]\n"
     ]
    }
   ],
   "source": [
    "# np.full(tuple for size / list for size / ndarray for size, value to fill) -> ndarray\n",
    "arr = np.full((2, 2), 7)\n",
    "print(arr)\n",
    "arr = np.full(np.array([2,3]), 2.1)\n",
    "print(arr)"
   ]
  },
  {
   "cell_type": "markdown",
   "metadata": {},
   "source": [
    "## All the same sequences"
   ]
  },
  {
   "cell_type": "code",
   "execution_count": 27,
   "metadata": {},
   "outputs": [
    {
     "name": "stdout",
     "output_type": "stream",
     "text": [
      "[[2.1 3.1 4.1]\n",
      " [2.1 3.1 4.1]]\n"
     ]
    }
   ],
   "source": [
    "# np.full(tuple for size / list for size / ndarray for size, sequence to fill) -> ndarray\n",
    "arr = np.full(np.array([2,3]), [2.1, 3.1, 4.1])\n",
    "print(arr)"
   ]
  },
  {
   "cell_type": "markdown",
   "metadata": {},
   "source": [
    "## full_like"
   ]
  },
  {
   "cell_type": "code",
   "execution_count": 30,
   "metadata": {},
   "outputs": [
    {
     "name": "stdout",
     "output_type": "stream",
     "text": [
      "[[21 21 21 21 21 21 21 21 21 21]\n",
      " [21 21 21 21 21 21 21 21 21 21]\n",
      " [21 21 21 21 21 21 21 21 21 21]\n",
      " [21 21 21 21 21 21 21 21 21 21]\n",
      " [21 21 21 21 21 21 21 21 21 21]]\n",
      "[[29 29 29]\n",
      " [29 29 29]]\n"
     ]
    }
   ],
   "source": [
    "# np.full_like(ndarray for size / tuple for size / list for size, sequence to fill) -> ndarray\n",
    "arr = np.full_like(arrayC, 21)\n",
    "print(arr)\n",
    "arr = np.full_like([[123, 456, 789],\n",
    "                    [234, 567, 890]], 29)\n",
    "print(arr)"
   ]
  },
  {
   "cell_type": "markdown",
   "metadata": {},
   "source": [
    "# Initializing with random values"
   ]
  },
  {
   "cell_type": "markdown",
   "metadata": {},
   "source": [
    "## Random float values from 0 to 1 in a NumPy array with designated shape (default data type: np.float64)"
   ]
  },
  {
   "cell_type": "code",
   "execution_count": 33,
   "metadata": {},
   "outputs": [
    {
     "name": "stdout",
     "output_type": "stream",
     "text": [
      "[[0.72386136 0.63283858 0.17287236]\n",
      " [0.52707211 0.91092857 0.62394526]]\n",
      "float64\n"
     ]
    }
   ],
   "source": [
    "# np.random.rand(int for rows, int for columns, ...(NOT TUPLE!)) -> ndarray\n",
    "arr = np.random.rand(2, 3)\n",
    "print(arr)\n",
    "print(arr.dtype)"
   ]
  },
  {
   "cell_type": "markdown",
   "metadata": {},
   "source": [
    "if with tuple as the shape argument:"
   ]
  },
  {
   "cell_type": "code",
   "execution_count": 37,
   "metadata": {},
   "outputs": [
    {
     "data": {
      "text/plain": [
       "array([[0.82420618, 0.07794334, 0.69636217],\n",
       "       [0.52502305, 0.69368714, 0.37053738]])"
      ]
     },
     "execution_count": 37,
     "metadata": {},
     "output_type": "execute_result"
    }
   ],
   "source": [
    "# np.random.rand(tuple for shape) -> ndarray\n",
    "np.random.random_sample((2, 3)) # same as np.random.rand((2, 3))"
   ]
  },
  {
   "cell_type": "markdown",
   "metadata": {},
   "source": [
    "## Random integer values in a NumPy array with desinated range and shape (default data type: np.int64)"
   ]
  },
  {
   "cell_type": "code",
   "execution_count": 42,
   "metadata": {},
   "outputs": [
    {
     "name": "stdout",
     "output_type": "stream",
     "text": [
      "[[9 8 9 9]\n",
      " [8 8 9 8]\n",
      " [8 8 8 8]]\n",
      "int64\n"
     ]
    }
   ],
   "source": [
    "# np.random.randint(low=0, high, size=tuple / list / ndarray for size) -> ndarray\n",
    "arr = np.random.randint(8,10, size=(3, 4))# 8 <= ndarray < 10\n",
    "print(arr)\n",
    "print(arr.dtype)"
   ]
  },
  {
   "cell_type": "markdown",
   "metadata": {},
   "source": [
    "## Identity matrix (default data type: np.float64)"
   ]
  },
  {
   "cell_type": "code",
   "execution_count": 47,
   "metadata": {},
   "outputs": [
    {
     "name": "stdout",
     "output_type": "stream",
     "text": [
      "[[1. 0. 0. 0.]\n",
      " [0. 1. 0. 0.]\n",
      " [0. 0. 1. 0.]\n",
      " [0. 0. 0. 1.]]\n",
      "float64\n"
     ]
    }
   ],
   "source": [
    "# np.identiry(int for dimension)\n",
    "arr = np.identity(4)\n",
    "print(arr)\n",
    "print(arr.dtype)"
   ]
  },
  {
   "cell_type": "markdown",
   "metadata": {},
   "source": [
    "## Repeat elements of a NumPy array"
   ]
  },
  {
   "cell_type": "markdown",
   "metadata": {},
   "source": [
    "### axis=None: repeat the whole array in a single row"
   ]
  },
  {
   "cell_type": "code",
   "execution_count": 50,
   "metadata": {},
   "outputs": [
    {
     "name": "stdout",
     "output_type": "stream",
     "text": [
      "[1 1 1 2 2 2 3 3 3 4 4 4 5 5 5 6 6 6]\n"
     ]
    }
   ],
   "source": [
    "# np.repeat(ndarray to repeat, number of times to repeat, axis=None)\n",
    "arr = np.repeat(np.array([[1, 2, 3],\n",
    "                          [4, 5, 6]]), 3, axis=None)\n",
    "print(arr)"
   ]
  },
  {
   "cell_type": "markdown",
   "metadata": {},
   "source": [
    "### axis=int less than target array dimension: repeat each elements along the axis"
   ]
  },
  {
   "cell_type": "code",
   "execution_count": null,
   "metadata": {},
   "outputs": [],
   "source": [
    "# np.repeat(ndarray to repeat, number of times to repeat, axis=None)\n",
    "arr = np.repeat(np.array([[[ 1,  2,  3,  4,  5], [11, 12, 13, 14, 15]], \n",
    "                         [[21, 22, 23, 24, 25], [31, 32, 33, 34, 35]]]), 3, axis=1)\n",
    "print(arr)"
   ]
  },
  {
   "cell_type": "code",
   "execution_count": 68,
   "metadata": {},
   "outputs": [
    {
     "name": "stdout",
     "output_type": "stream",
     "text": [
      "[[1 2]\n",
      " [1 2]\n",
      " [3 4]\n",
      " [3 4]]\n",
      "\n",
      "[[1 1 2 2]\n",
      " [3 3 4 4]]\n",
      "\n",
      "[[1 2]\n",
      " [1 2]\n",
      " [3 4]\n",
      " [3 4]\n",
      " [3 4]]\n"
     ]
    }
   ],
   "source": [
    "# [[1, 2],\n",
    "#  [3, 4]]\n",
    "arr = np.array([[1, 2], [3, 4]])\n",
    "result = np.repeat(arr, 2, axis=0)\n",
    "print(result, end = '\\n\\n')\n",
    "\n",
    "arr = np.array([[1, 2], [3, 4]])\n",
    "result = np.repeat(arr, 2, axis=1)\n",
    "print(result, end = '\\n\\n')\n",
    "\n",
    "arr = np.array([[1, 2], [3, 4]])\n",
    "result = np.repeat(arr, [2, 3], axis=0)  # with different repeat times\n",
    "print(result)\n"
   ]
  },
  {
   "cell_type": "markdown",
   "metadata": {},
   "source": [
    "# NumPy array copying"
   ]
  },
  {
   "cell_type": "markdown",
   "metadata": {},
   "source": [
    "Simply applying\n",
    "\n",
    "```python\n",
    "ndarrayB = ndarrayA\n",
    "```\n",
    "\n",
    "will only point the variable `ndarrayB` to the same memory location as `ndarrayA`.\n",
    "\n",
    "We can use the `copy()` method to actually copy an array with a different memory location."
   ]
  },
  {
   "cell_type": "code",
   "execution_count": 69,
   "metadata": {},
   "outputs": [
    {
     "name": "stdout",
     "output_type": "stream",
     "text": [
      "[[1 2 3]\n",
      " [4 5 6]]\n",
      "\n",
      "[[1 2 3]\n",
      " [4 5 6]]\n",
      "\n",
      "[[0 2 3]\n",
      " [4 5 6]]\n",
      "\n",
      "[[1 2 3]\n",
      " [4 5 6]]\n",
      "\n"
     ]
    }
   ],
   "source": [
    "# ndarray.copy() -> ndarray\n",
    "arrayA = np.array([[1, 2, 3],\n",
    "                   [4, 5, 6]])\n",
    "arrayB = arrayA.copy()\n",
    "print(arrayA, end = '\\n\\n')\n",
    "print(arrayB, end = '\\n\\n')\n",
    "arrayA[0, 0] = 0\n",
    "print(arrayA, end = '\\n\\n')\n",
    "print(arrayB, end = '\\n\\n')"
   ]
  },
  {
   "cell_type": "markdown",
   "metadata": {},
   "source": [
    "# Simple NumPy Mathematics (element-wise)"
   ]
  },
  {
   "cell_type": "markdown",
   "metadata": {},
   "source": [
    "## Adding / subtracting / multiplying / dividing / powing a value to an array"
   ]
  },
  {
   "cell_type": "markdown",
   "metadata": {},
   "source": [
    "When changing the element dtype from int to float, the ndarray will be automatically converted to float dtype."
   ]
  },
  {
   "cell_type": "code",
   "execution_count": 24,
   "metadata": {},
   "outputs": [
    {
     "name": "stdout",
     "output_type": "stream",
     "text": [
      "[[1 2 3]\n",
      " [4 5 6]]\n",
      "int64\n",
      "[[11 12 13]\n",
      " [14 15 16]]\n",
      "int64\n",
      "[[0.9 1.9 2.9]\n",
      " [3.9 4.9 5.9]]\n",
      "float64\n",
      "[[ 2  4  6]\n",
      " [ 8 10 12]]\n",
      "int64\n",
      "[[1. 2. 3.]\n",
      " [4. 5. 6.]]\n",
      "float64\n",
      "[[1 2 3]\n",
      " [4 5 6]]\n",
      "int32\n",
      "[[1 0 1]\n",
      " [0 1 0]]\n",
      "int64\n",
      "[[ 1  4  9]\n",
      " [16 25 36]]\n",
      "int64\n"
     ]
    }
   ],
   "source": [
    "# ndarray +, -, *, /, //, %, ** value -> ndarray\n",
    "arrayA = np.array([[1, 2, 3],\n",
    "                   [4, 5, 6]])\n",
    "print(arrayA)\n",
    "print(arrayA.dtype) # int64\n",
    "\n",
    "# +\n",
    "arrayB = arrayA + 10\n",
    "print(arrayB)\n",
    "print(arrayB.dtype) # int64\n",
    "\n",
    "#-\n",
    "arrayB = arrayA - 0.1\n",
    "print(arrayB)\n",
    "print(arrayB.dtype) # float64\n",
    "\n",
    "# *\n",
    "arrayB = arrayA * 2\n",
    "print(arrayB)\n",
    "print(arrayB.dtype) # int64\n",
    "\n",
    "# /\n",
    "# Be advised, the result of normal division is always float64 type, even if the result are all integers.\n",
    "arrayC = np.array([[2, 4, 6],\n",
    "                   [8, 10, 12]], dtype=np.int32)\n",
    "arrayB = arrayC / 2\n",
    "print(arrayB)\n",
    "print(arrayB.dtype) # float64\n",
    "\n",
    "# //\n",
    "# The result of floor division from an integer array stays integer type.\n",
    "arrayB = arrayC // 2\n",
    "print(arrayB)\n",
    "print(arrayB.dtype)\n",
    "\n",
    "# %\n",
    "arrayB = arrayA % 2\n",
    "print(arrayB)\n",
    "print(arrayB.dtype)\n",
    "\n",
    "# **\n",
    "arrayB = arrayA ** 2\n",
    "print(arrayB)\n",
    "print(arrayB.dtype)"
   ]
  },
  {
   "cell_type": "markdown",
   "metadata": {},
   "source": [
    "## Trigonometric functions"
   ]
  },
  {
   "cell_type": "code",
   "execution_count": 73,
   "metadata": {},
   "outputs": [
    {
     "name": "stdout",
     "output_type": "stream",
     "text": [
      "[[0.        0.5      ]\n",
      " [0.8660254 1.       ]]\n",
      "[[1.00000000e+00 8.66025404e-01]\n",
      " [5.00000000e-01 6.12323400e-17]]\n",
      "[[0.00000000e+00 5.77350269e-01]\n",
      " [1.73205081e+00 1.63312394e+16]]\n",
      "\n",
      "[[0.         0.52359878]\n",
      " [1.04719755 1.57079633]]\n",
      "[[1.57079633 1.04719755]\n",
      " [0.52359878 0.        ]]\n",
      "[[0.         0.46364761]\n",
      " [0.71372438 0.78539816]]\n"
     ]
    }
   ],
   "source": [
    "# np.sin/cos/tan...(ndarray) -> ndarray\n",
    "arrayA = np.array([[0, np.pi/6],\n",
    "                   [np.pi/3, np.pi/2]])\n",
    "print(np.sin(arrayA))\n",
    "print(np.cos(arrayA))\n",
    "print(np.tan(arrayA), end = '\\n\\n')\n",
    "arrayB = np.array([[0, 0.5],\n",
    "                   [3**0.5/2, 1]])\n",
    "print(np.arcsin(arrayB))\n",
    "print(np.arccos(arrayB))\n",
    "print(np.arctan(arrayB))"
   ]
  },
  {
   "cell_type": "markdown",
   "metadata": {},
   "source": [
    "# Linear algebra calculations\n",
    ">[click here for more `linalg` functions](https://numpy.org/doc/stable/reference/routines.linalg.html)"
   ]
  },
  {
   "cell_type": "markdown",
   "metadata": {},
   "source": [
    "## Matrix multiplication (cross-product)"
   ]
  },
  {
   "cell_type": "code",
   "execution_count": 79,
   "metadata": {},
   "outputs": [
    {
     "name": "stdout",
     "output_type": "stream",
     "text": [
      "[[13  9]\n",
      " [31 27]]\n"
     ]
    }
   ],
   "source": [
    "# np.matmul.(ndarray, ndarray) -> ndarray\n",
    "arrayA = np.array([[1, 2, 3],\n",
    "                   [4, 5, 6]])\n",
    "arrayB = np.array([[2, 4],\n",
    "                   [1, 1],\n",
    "                   [3, 1]])\n",
    "#print(np.matmul(arrayA, arrayB)) same as arrayA @ arrayB\n",
    "print(arrayA @ arrayB)"
   ]
  },
  {
   "cell_type": "markdown",
   "metadata": {},
   "source": [
    "## Determinant"
   ]
  },
  {
   "cell_type": "code",
   "execution_count": 82,
   "metadata": {},
   "outputs": [
    {
     "name": "stdout",
     "output_type": "stream",
     "text": [
      "-2.0000000000000004\n"
     ]
    }
   ],
   "source": [
    "# np.linalg.det(ndarray) -> float\n",
    "print(np.linalg.det(np.array([[1, 2], \n",
    "                              [3, 4]])))"
   ]
  },
  {
   "cell_type": "markdown",
   "metadata": {},
   "source": [
    "# Statistics"
   ]
  },
  {
   "cell_type": "markdown",
   "metadata": {},
   "source": [
    "## Max min mean std normalization"
   ]
  },
  {
   "cell_type": "code",
   "execution_count": 84,
   "metadata": {},
   "outputs": [
    {
     "name": "stdout",
     "output_type": "stream",
     "text": [
      "5090\n",
      "[[5090  200  103  104  105  106  107  108  109  110]\n",
      " [ 111  300  113  114  115  116  117  118  119  120]]\n"
     ]
    }
   ],
   "source": [
    "# np.ndarray(ndarray, axis=None)\n",
    "arrayA = np.array([[[5090,   200,   3,   4,   5,   6,   7,   8,   9,  10],\n",
    "                    [  11,  300,  13,  14,  15,  16,  17,  18,  19,  20]],\n",
    "                    \n",
    "                    [[101, 102, 103, 104, 105, 106, 107, 108, 109, 110],\n",
    "                     [111, 112, 113, 114, 115, 116, 117, 118, 119, 120]]])\n",
    "print(np.max(arrayA))\n",
    "print(np.max(arrayA, axis=0))\n",
    "# The 5090 term was originally 1, which is what written in the image below"
   ]
  },
  {
   "cell_type": "markdown",
   "metadata": {},
   "source": [
    "![arrayA visualization](/Users/ygzdysyy/Visual_Studio_Code_Projects/Python/Notes/NumPy_Notes/arrayA_visualization.jpg)"
   ]
  },
  {
   "cell_type": "markdown",
   "metadata": {},
   "source": [
    "## Summation"
   ]
  },
  {
   "cell_type": "code",
   "execution_count": 81,
   "metadata": {},
   "outputs": [
    {
     "name": "stdout",
     "output_type": "stream",
     "text": [
      "21\n",
      "[5 7 9]\n",
      "[ 6 15]\n"
     ]
    }
   ],
   "source": [
    "# np.sum(ndarray, axis=None) -> ndarray\n",
    "arrayA = np.array([[1, 2, 3], [4, 5, 6]])\n",
    "print(np.sum(arrayA, axis=None))\n",
    "print(np.sum(arrayA, axis=0))\n",
    "print(np.sum(arrayA, axis=1))"
   ]
  },
  {
   "cell_type": "markdown",
   "metadata": {},
   "source": [
    "# Reshape"
   ]
  },
  {
   "cell_type": "code",
   "execution_count": 85,
   "metadata": {},
   "outputs": [
    {
     "name": "stdout",
     "output_type": "stream",
     "text": [
      "[[1 2 3 4]\n",
      " [5 6 7 8]]\n",
      "[[1 2]\n",
      " [3 4]\n",
      " [5 6]\n",
      " [7 8]]\n",
      "[[1 3 5 7]\n",
      " [2 4 6 8]]\n"
     ]
    }
   ],
   "source": [
    "# ndarray.reshape(tuple / list / ndarray for shape) -> ndarray\n",
    "arrayA = np.array([[1, 2, 3, 4], [5, 6, 7, 8]])\n",
    "print(arrayA)\n",
    "\n",
    "arrayB = arrayA.reshape((4, 2))\n",
    "print(arrayB)\n",
    "\n",
    "print(arrayB.T)"
   ]
  },
  {
   "cell_type": "markdown",
   "metadata": {},
   "source": [
    "# Vector stacking"
   ]
  },
  {
   "cell_type": "markdown",
   "metadata": {},
   "source": [
    "## Vertical vector stacking"
   ]
  },
  {
   "cell_type": "code",
   "execution_count": 90,
   "metadata": {},
   "outputs": [
    {
     "name": "stdout",
     "output_type": "stream",
     "text": [
      "[[1 2 3]\n",
      " [4 5 6]]\n",
      "[[ 1  2  3  4]\n",
      " [ 4  5  6  7]\n",
      " [ 7  8  9 10]\n",
      " [10 11 12 13]]\n"
     ]
    }
   ],
   "source": [
    "# np.vstack(tuple / list / ndarray for vector1, vector2, ...) -> ndarray\n",
    "arrayB = np.vstack((np.array([1, 2, 3]), np.array([4, 5, 6])))\n",
    "print(arrayB)\n",
    "arrayA = np.vstack((np.array([[1, 2, 3, 4], [4, 5, 6, 7]]), np.array([[7, 8, 9, 10], [10, 11, 12, 13]])))\n",
    "print(arrayA)"
   ]
  },
  {
   "cell_type": "markdown",
   "metadata": {},
   "source": [
    "## Horizontal vector stacking"
   ]
  },
  {
   "cell_type": "code",
   "execution_count": 91,
   "metadata": {},
   "outputs": [
    {
     "name": "stdout",
     "output_type": "stream",
     "text": [
      "[1 2 3 4 5 6]\n",
      "[[ 1  2  3  4  7  8  9 10]\n",
      " [ 4  5  6  7 10 11 12 13]]\n"
     ]
    }
   ],
   "source": [
    "# np.hstack(tuple / list / ndarray for vector1, vector2, ...) -> ndarray\n",
    "arrayB = np.hstack((np.array([1, 2, 3]), np.array([4, 5, 6])))\n",
    "print(arrayB)\n",
    "arrayA = np.hstack((np.array([[1, 2, 3, 4], [4, 5, 6, 7]]), np.array([[7, 8, 9, 10], [10, 11, 12, 13]])))\n",
    "print(arrayA)"
   ]
  },
  {
   "cell_type": "markdown",
   "metadata": {},
   "source": [
    "# Miscellaneous"
   ]
  },
  {
   "cell_type": "markdown",
   "metadata": {},
   "source": [
    "## dtype casting"
   ]
  },
  {
   "cell_type": "code",
   "execution_count": 86,
   "metadata": {},
   "outputs": [
    {
     "name": "stdout",
     "output_type": "stream",
     "text": [
      "[1. 2. 3. 4. 5.]\n",
      "float64\n",
      "[1 2 3 4 5]\n",
      "int32\n"
     ]
    }
   ],
   "source": [
    "# ndarray.astype(data type) -> ndarray\n",
    "arrayA = np.array([1, 2, 3, 4, 5], dtype=np.float64)\n",
    "arrayB = arrayA.astype(np.int32)\n",
    "print(arrayA)\n",
    "print(arrayA.dtype)\n",
    "print(arrayB)\n",
    "print(arrayB.dtype)"
   ]
  },
  {
   "cell_type": "markdown",
   "metadata": {},
   "source": [
    "## Load data from txt file"
   ]
  },
  {
   "cell_type": "code",
   "execution_count": 87,
   "metadata": {},
   "outputs": [
    {
     "name": "stdout",
     "output_type": "stream",
     "text": [
      "[[   1    2    3    4]\n",
      " [   5    6    7 5090]]\n"
     ]
    }
   ],
   "source": [
    "# np.genfromtxt('dataName', delimiter='delimiter') -> ndarray\n",
    "arrayA = np.genfromtxt('datafile.txt', delimiter=',', dtype=np.int32)\n",
    "print(arrayA)"
   ]
  },
  {
   "cell_type": "markdown",
   "metadata": {},
   "source": [
    "## ! Ndarray boolean operations"
   ]
  },
  {
   "cell_type": "code",
   "execution_count": 88,
   "metadata": {},
   "outputs": [
    {
     "name": "stdout",
     "output_type": "stream",
     "text": [
      "[False  True]\n",
      "[ True False False False]\n",
      "[ True  True  True False]\n",
      "[False  True  True False]\n"
     ]
    }
   ],
   "source": [
    "# boolean ndarray operation\n",
    "arrayB = ~ np.array([True, False]) # NOT\n",
    "print(arrayB)\n",
    "arrayB = np.array([True, True, False, False]) & np.array([True, False, True, False]) # AND\n",
    "print(arrayB)\n",
    "arrayB = np.array([True, True, False, False]) | np.array([True, False, True, False]) # OR\n",
    "print(arrayB)\n",
    "arrayB = np.array([True, True, False, False]) ^ np.array([True, False, True, False]) # XOR\n",
    "print(arrayB)"
   ]
  },
  {
   "cell_type": "markdown",
   "metadata": {},
   "source": [
    "## Boolean masking and advanced indexing"
   ]
  },
  {
   "cell_type": "markdown",
   "metadata": {},
   "source": [
    "### Return a boolean ndarray indicating whether each element fit the boolean expression or not."
   ]
  },
  {
   "cell_type": "code",
   "execution_count": 89,
   "metadata": {},
   "outputs": [
    {
     "name": "stdout",
     "output_type": "stream",
     "text": [
      "[False  True False  True False  True  True]\n",
      "bool\n"
     ]
    }
   ],
   "source": [
    "# ndarray in boolean expression -> booleanNdarray\n",
    "arrayA = np.array([1, 2, 3, 4, 5, 6, 5090])\n",
    "arrayB = arrayA % 2 == 0\n",
    "print(arrayB)\n",
    "print(arrayB.dtype)"
   ]
  },
  {
   "cell_type": "markdown",
   "metadata": {},
   "source": [
    "### Jointing boolean ndarrays"
   ]
  },
  {
   "cell_type": "code",
   "execution_count": 91,
   "metadata": {},
   "outputs": [
    {
     "name": "stdout",
     "output_type": "stream",
     "text": [
      "[False  True False  True False  True False False]\n"
     ]
    }
   ],
   "source": [
    "# booleanNdarray booleanOperator booleanNdarray -> booleanNdarray\n",
    "arrayA = np.array([1, 2, 3, 4, 5, 6, 7, 5090])\n",
    "arrayB = (arrayA % 2 == 0) & (arrayA < 10)\n",
    "print(arrayB)"
   ]
  },
  {
   "cell_type": "markdown",
   "metadata": {},
   "source": [
    "### Return all the value that fit the boolean expression in the ndarray"
   ]
  },
  {
   "cell_type": "code",
   "execution_count": 98,
   "metadata": {},
   "outputs": [
    {
     "name": "stdout",
     "output_type": "stream",
     "text": [
      "[ 8  9 10  8  9 10 11 12 13 14]\n"
     ]
    }
   ],
   "source": [
    "# ndarray[booleanNdarray] -> ndarray (1 dimenssional)\n",
    "arrayA = np.array([[1, 2, 3, 4, 5, 6, 7, 8, 9, 10],\n",
    "                   [5, 6, 7, 8, 9, 10, 11, 12, 13, 14]])\n",
    "arrayB = arrayA[arrayA > 7]\n",
    "print(arrayB)"
   ]
  },
  {
   "cell_type": "markdown",
   "metadata": {},
   "source": [
    "### Return an boolean ndarray of whether any / all collection of values along a given axis fits a condition"
   ]
  },
  {
   "cell_type": "code",
   "execution_count": 92,
   "metadata": {},
   "outputs": [
    {
     "name": "stdout",
     "output_type": "stream",
     "text": [
      "True\n",
      "[False False False False False  True  True  True  True  True]\n",
      "[False False  True]\n",
      "\n",
      "False\n",
      "[False False False False False  True  True  True  True  True]\n",
      "[False  True  True]\n"
     ]
    }
   ],
   "source": [
    "# np.any / all(booleanNdarray, axis=None)\n",
    "arrayA = np.array([[ 1,  2,  3,  4,  5,  6,  7,  8,  9, 10],\n",
    "                   [11, 12, 13, 14, 15, 16, 17, 18, 19, 20],\n",
    "                   [21, 22, 23, 24, 25, 26, 27, 28, 29, 30]])\n",
    "arrayB = np.any(arrayA > 25)\n",
    "print(arrayB)\n",
    "arrayB = np.any(arrayA > 25, axis=0)\n",
    "print(arrayB)\n",
    "arrayB = np.any(arrayA > 25, axis=1)\n",
    "print(arrayB)\n",
    "\n",
    "print()\n",
    "arrayB = np.all(arrayA > 5)\n",
    "print(arrayB)\n",
    "arrayB = np.all(arrayA > 5, axis=0)\n",
    "print(arrayB)\n",
    "arrayB = np.all(arrayA > 5, axis=1)\n",
    "print(arrayB)"
   ]
  },
  {
   "cell_type": "code",
   "execution_count": 93,
   "metadata": {},
   "outputs": [
    {
     "name": "stdout",
     "output_type": "stream",
     "text": [
      "[[11 12]\n",
      " [16 17]]\n",
      "[ 2  8 14 20]\n"
     ]
    }
   ],
   "source": [
    "arrayA = np.array([[ 1,  2,  3,  4,  5],\n",
    "                   [ 6,  7,  8,  9, 10],\n",
    "                   [11, 12, 13, 14, 15],\n",
    "                   [16, 17, 18, 19, 20],\n",
    "                   [21, 22, 23, 24, 25],\n",
    "                   [26, 27, 28, 29, 30]])\n",
    "arrayB = arrayA[2:4, 0:2]\n",
    "print(arrayB)\n",
    "arrayB = arrayA[[0, 1, 2, 3], [1, 2, 3, 4]]# get [0,1] [1,2] [2,3] [3,4]\n",
    "print(arrayB)\n"
   ]
  }
 ],
 "metadata": {
  "kernelspec": {
   "display_name": ".venv",
   "language": "python",
   "name": "python3"
  },
  "language_info": {
   "codemirror_mode": {
    "name": "ipython",
    "version": 3
   },
   "file_extension": ".py",
   "mimetype": "text/x-python",
   "name": "python",
   "nbconvert_exporter": "python",
   "pygments_lexer": "ipython3",
   "version": "3.11.0"
  }
 },
 "nbformat": 4,
 "nbformat_minor": 2
}
