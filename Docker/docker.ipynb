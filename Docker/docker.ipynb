{
 "cells": [
  {
   "cell_type": "markdown",
   "metadata": {},
   "source": [
    "# Docker\n",
    ">resource: https://docs.docker.com/\n",
    "## index\n",
    "- [What is Docker](#what-is-docker)\n",
    "\n",
    "\n",
    "## What is Docker\n",
    ">[Click here](https://docs.docker.com/get-started/docker-overview/) to see the detail.\n",
    "\n",
    "Docker is a platform for developing, shipping, and running applications in containers. Containers package an application with all its dependencies, ensuring it runs consistently across different environments. Key features include:\n",
    "\n",
    "- ```Containerization```: Isolated application environments\n",
    "- ```Portability```: Runs consistently across different systems\n",
    "- ```Efficiency```: Lightweight compared to virtual machines\n",
    "- ```Isolation```: Separate filesystem, networking, and process space\n",
    "\n",
    "Main components:\n",
    "- Docker Engine (core runtime)\n",
    "- Docker Images (application templates)\n",
    "- Docker Hub (image repository)\n",
    "\n",
    "## Get started\n",
    "Follow the [official guide](https://docs.docker.com/get-started/) to get started."
   ]
  },
  {
   "cell_type": "code",
   "execution_count": null,
   "metadata": {},
   "outputs": [],
   "source": []
  }
 ],
 "metadata": {
  "language_info": {
   "name": "python"
  }
 },
 "nbformat": 4,
 "nbformat_minor": 2
}
