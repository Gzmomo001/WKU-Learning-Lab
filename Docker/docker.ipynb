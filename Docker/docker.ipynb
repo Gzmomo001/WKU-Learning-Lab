{
 "cells": [
  {
   "cell_type": "markdown",
   "metadata": {},
   "source": [
    "# Docker\n",
    ">resource: https://docs.docker.com/\n",
    "## index\n",
    "- [What is Docker](#what-is-docker)\n",
    "\n",
    "\n",
    "## What is Docker\n",
    ">[Click here](https://docs.docker.com/get-started/docker-overview/) to see the detail.\n",
    "\n",
    "Docker is a platform for developing, shipping, and running applications in containers. Containers package an application with all its dependencies, ensuring it runs consistently across different environments. Key features include:\n",
    "\n",
    "- ```Containerization```: Isolated application environments\n",
    "- ```Portability```: Runs consistently across different systems\n",
    "- ```Efficiency```: Lightweight compared to virtual machines\n",
    "- ```Isolation```: Separate filesystem, networking, and process space\n",
    "\n",
    "Main components:\n",
    "- Docker Engine (core runtime)\n",
    "- Docker Images (application templates)\n",
    "- Docker Hub (image repository)\n",
    "\n",
    "## Get started\n",
    "Follow the [official guide](https://docs.docker.com/get-started/) to get started.\n",
    ">[!NOTE]\n",
    "When modifying ```greeting``` on the ```todo container```, the path should be 'usr/local/src/app/routes/getGreeting.js'\n",
    "\n",
    "## Build your own image\n",
    "Resource: https://docs.docker.com/get-started/introduction/build-and-push-first-image/\n",
    "\n",
    "1. Install vs code plugin: Docker\n",
    "2. open getting started todo app folder\n",
    "3. right click on the Dockerfile and select build image\n",
    "\n",
    "## Dockerfile\n",
    "Some of the most common instructions in a Dockerfile include:\n",
    "\n",
    "- ```FROM \\<image>``` - this specifies the base image that the build will extend.\n",
    "- WORKDIR \\<path> - this instruction specifies the \"working directory\" or the path in the image where files will be copied and commands will be executed.\n",
    "- COPY \\<host-path> \\<image-path> - this instruction tells the builder to copy files from the host and put them into the container image.\n",
    "- RUN \\<command> - this instruction tells the builder to run the specified command.\n",
    "- ENV \\<name> \\<value> - this instruction sets an environment variable that a running container will use.\n",
    "- EXPOSE \\<port-number> - this instruction sets configuration on the image that indicates a port the image would like to expose.\n",
    "- USER \\<user-or-uid> - this instruction sets the default user for all subsequent instructions.\n",
    "- CMD [\"\\<command>\", \"\\<arg1>\"] - this instruction sets the default command a container using this image will run.\n"
   ]
  },
  {
   "cell_type": "code",
   "execution_count": 3,
   "metadata": {},
   "outputs": [
    {
     "name": "stdout",
     "output_type": "stream",
     "text": [
      "\u001b[31mERROR: Could not find a version that satisfies the requirement depay (from versions: none)\u001b[0m\u001b[31m\n",
      "\u001b[0m\u001b[31mERROR: No matching distribution found for depay\u001b[0m\u001b[31m\n",
      "\u001b[0m"
     ]
    }
   ],
   "source": [
    "! pip install depay\n",
    "# 通过Depay虚拟卡支付Render\n",
    "from depay import create_card\n",
    "\n",
    "card = create_card(\n",
    "    user_id=\"your_id\",\n",
    "    balance=10,  # 单位：USDT\n",
    "    currency=\"USD\"\n",
    ")\n",
    "print(f\"Card Number: {card.number}\")\n",
    "print(f\"CVV: {card.cvv}\")\n",
    "# 将此卡信息填入Render支付页面"
   ]
  }
 ],
 "metadata": {
  "kernelspec": {
   "display_name": "ML_env",
   "language": "python",
   "name": "python3"
  },
  "language_info": {
   "codemirror_mode": {
    "name": "ipython",
    "version": 3
   },
   "file_extension": ".py",
   "mimetype": "text/x-python",
   "name": "python",
   "nbconvert_exporter": "python",
   "pygments_lexer": "ipython3",
   "version": "3.9.21"
  }
 },
 "nbformat": 4,
 "nbformat_minor": 2
}
